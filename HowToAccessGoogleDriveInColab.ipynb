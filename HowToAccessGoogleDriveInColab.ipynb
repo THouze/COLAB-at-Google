{
  "nbformat": 4,
  "nbformat_minor": 0,
  "metadata": {
    "colab": {
      "name": "HowToAccessGoogleDriveInColab.ipynb",
      "version": "0.3.2",
      "provenance": [],
      "collapsed_sections": [],
      "include_colab_link": true
    },
    "kernelspec": {
      "name": "python3",
      "display_name": "Python 3"
    },
    "accelerator": "TPU"
  },
  "cells": [
    {
      "cell_type": "markdown",
      "metadata": {
        "id": "view-in-github",
        "colab_type": "text"
      },
      "source": [
        "<a href=\"https://colab.research.google.com/github/THouze/Day/blob/master/HowToAccessGoogleDriveInColab.ipynb\" target=\"_parent\"><img src=\"https://colab.research.google.com/assets/colab-badge.svg\" alt=\"Open In Colab\"/></a>"
      ]
    },
    {
      "cell_type": "code",
      "metadata": {
        "id": "PSOWJc735dAK",
        "colab_type": "code",
        "colab": {}
      },
      "source": [
        "import pandas as pd\n",
        "import matplotlib.pyplot as plt\n",
        "\n",
        "from sklearn.linear_model import LinearRegression\n",
        "from sklearn.model_selection import train_test_split"
      ],
      "execution_count": 0,
      "outputs": []
    },
    {
      "cell_type": "code",
      "metadata": {
        "id": "S7TNZFtU5m0r",
        "colab_type": "code",
        "colab": {
          "base_uri": "https://localhost:8080/",
          "height": 34
        },
        "outputId": "b1cb3d61-aaa7-40a2-8f92-9ede60e18ebb"
      },
      "source": [
        "print('Booting into Machine Learning....')"
      ],
      "execution_count": 2,
      "outputs": [
        {
          "output_type": "stream",
          "text": [
            "Booting into Machine Learning....\n"
          ],
          "name": "stdout"
        }
      ]
    },
    {
      "cell_type": "code",
      "metadata": {
        "id": "JvtVTNyk5sBg",
        "colab_type": "code",
        "colab": {
          "base_uri": "https://localhost:8080/",
          "height": 139
        },
        "outputId": "366bd390-4f0d-4069-dbe3-ad63f2115428"
      },
      "source": [
        "from google.colab import drive\n",
        "drive.mount('/gdrive')\n",
        "%cd /gdrive"
      ],
      "execution_count": 3,
      "outputs": [
        {
          "output_type": "stream",
          "text": [
            "Go to this URL in a browser: https://accounts.google.com/o/oauth2/auth?client_id=947318989803-6bn6qk8qdgf4n4g3pfee6491hc0brc4i.apps.googleusercontent.com&redirect_uri=urn%3Aietf%3Awg%3Aoauth%3A2.0%3Aoob&scope=email%20https%3A%2F%2Fwww.googleapis.com%2Fauth%2Fdocs.test%20https%3A%2F%2Fwww.googleapis.com%2Fauth%2Fdrive%20https%3A%2F%2Fwww.googleapis.com%2Fauth%2Fdrive.photos.readonly%20https%3A%2F%2Fwww.googleapis.com%2Fauth%2Fpeopleapi.readonly&response_type=code\n",
            "\n",
            "Enter your authorization code:\n",
            "··········\n",
            "Mounted at /gdrive\n",
            "/gdrive\n"
          ],
          "name": "stdout"
        }
      ]
    },
    {
      "cell_type": "code",
      "metadata": {
        "id": "Ae_KQkrj5yg1",
        "colab_type": "code",
        "colab": {
          "base_uri": "https://localhost:8080/",
          "height": 561
        },
        "outputId": "506e6de5-16a7-483b-bad8-63ca7f52e2c1"
      },
      "source": [
        "file = r'/gdrive/My Drive/Colab Notebooks/data/Regression-AreaPrice.csv'\n",
        "df = pd.read_csv(file)\n",
        "\n",
        "print(df)"
      ],
      "execution_count": 4,
      "outputs": [
        {
          "output_type": "stream",
          "text": [
            "    Area   Price\n",
            "0    400   81374\n",
            "1    450   91349\n",
            "2    500  101324\n",
            "3    550  111299\n",
            "4    600  121274\n",
            "5    650  131249\n",
            "6    700  141224\n",
            "7    750  151199\n",
            "8    800  161174\n",
            "9    850  171149\n",
            "10   900  181124\n",
            "11   950  191099\n",
            "12  1000  201074\n",
            "13  1050  211049\n",
            "14  1100  221024\n",
            "15  1150  230999\n",
            "16  1200  240974\n",
            "17  1250  250949\n",
            "18  1300  260924\n",
            "19  1350  270899\n",
            "20  1400  280874\n",
            "21  1450  290849\n",
            "22  1500  300824\n",
            "23  1550  310799\n",
            "24  1600  320774\n",
            "25  1650  330749\n",
            "26  1700  340724\n",
            "27  1750  350699\n",
            "28  1800  360674\n",
            "29  1850  370649\n",
            "30  1900  380624\n"
          ],
          "name": "stdout"
        }
      ]
    }
  ]
}